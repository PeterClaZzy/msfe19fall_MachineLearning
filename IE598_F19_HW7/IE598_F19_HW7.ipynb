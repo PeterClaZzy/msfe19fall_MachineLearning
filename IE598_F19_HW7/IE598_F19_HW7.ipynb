{
 "cells": [
  {
   "cell_type": "markdown",
   "metadata": {},
   "source": [
    "# IE598 MLF F18"
   ]
  },
  {
   "cell_type": "markdown",
   "metadata": {},
   "source": [
    "Using the ccdefault dataset, and 10 fold cross validation described in Raschka; "
   ]
  },
  {
   "cell_type": "markdown",
   "metadata": {},
   "source": [
    "## Part 1: Random forest estimators"
   ]
  },
  {
   "cell_type": "markdown",
   "metadata": {},
   "source": [
    "Fit a random forest model, try several different values for N_estimators, report in-sample accuracies. "
   ]
  },
  {
   "cell_type": "code",
   "execution_count": 1,
   "metadata": {},
   "outputs": [],
   "source": [
    "from sklearn.ensemble import RandomForestClassifier\n",
    "import pandas as pd\n",
    "from sklearn.model_selection import train_test_split\n",
    "import numpy as np\n",
    "import matplotlib.pyplot as plt\n",
    "from sklearn.metrics import accuracy_score\n",
    "from sklearn.model_selection import cross_val_score\n",
    "import time\n",
    "from pandas import DataFrame as df"
   ]
  },
  {
   "cell_type": "code",
   "execution_count": 2,
   "metadata": {},
   "outputs": [
    {
     "data": {
      "text/html": [
       "<div>\n",
       "<style scoped>\n",
       "    .dataframe tbody tr th:only-of-type {\n",
       "        vertical-align: middle;\n",
       "    }\n",
       "\n",
       "    .dataframe tbody tr th {\n",
       "        vertical-align: top;\n",
       "    }\n",
       "\n",
       "    .dataframe thead th {\n",
       "        text-align: right;\n",
       "    }\n",
       "</style>\n",
       "<table border=\"1\" class=\"dataframe\">\n",
       "  <thead>\n",
       "    <tr style=\"text-align: right;\">\n",
       "      <th></th>\n",
       "      <th>ID</th>\n",
       "      <th>LIMIT_BAL</th>\n",
       "      <th>SEX</th>\n",
       "      <th>EDUCATION</th>\n",
       "      <th>MARRIAGE</th>\n",
       "      <th>AGE</th>\n",
       "      <th>PAY_0</th>\n",
       "      <th>PAY_2</th>\n",
       "      <th>PAY_3</th>\n",
       "      <th>PAY_4</th>\n",
       "      <th>...</th>\n",
       "      <th>BILL_AMT4</th>\n",
       "      <th>BILL_AMT5</th>\n",
       "      <th>BILL_AMT6</th>\n",
       "      <th>PAY_AMT1</th>\n",
       "      <th>PAY_AMT2</th>\n",
       "      <th>PAY_AMT3</th>\n",
       "      <th>PAY_AMT4</th>\n",
       "      <th>PAY_AMT5</th>\n",
       "      <th>PAY_AMT6</th>\n",
       "      <th>DEFAULT</th>\n",
       "    </tr>\n",
       "  </thead>\n",
       "  <tbody>\n",
       "    <tr>\n",
       "      <th>0</th>\n",
       "      <td>1</td>\n",
       "      <td>20000</td>\n",
       "      <td>2</td>\n",
       "      <td>2</td>\n",
       "      <td>1</td>\n",
       "      <td>24</td>\n",
       "      <td>2</td>\n",
       "      <td>2</td>\n",
       "      <td>-1</td>\n",
       "      <td>-1</td>\n",
       "      <td>...</td>\n",
       "      <td>0</td>\n",
       "      <td>0</td>\n",
       "      <td>0</td>\n",
       "      <td>0</td>\n",
       "      <td>689</td>\n",
       "      <td>0</td>\n",
       "      <td>0</td>\n",
       "      <td>0</td>\n",
       "      <td>0</td>\n",
       "      <td>1</td>\n",
       "    </tr>\n",
       "    <tr>\n",
       "      <th>1</th>\n",
       "      <td>2</td>\n",
       "      <td>120000</td>\n",
       "      <td>2</td>\n",
       "      <td>2</td>\n",
       "      <td>2</td>\n",
       "      <td>26</td>\n",
       "      <td>-1</td>\n",
       "      <td>2</td>\n",
       "      <td>0</td>\n",
       "      <td>0</td>\n",
       "      <td>...</td>\n",
       "      <td>3272</td>\n",
       "      <td>3455</td>\n",
       "      <td>3261</td>\n",
       "      <td>0</td>\n",
       "      <td>1000</td>\n",
       "      <td>1000</td>\n",
       "      <td>1000</td>\n",
       "      <td>0</td>\n",
       "      <td>2000</td>\n",
       "      <td>1</td>\n",
       "    </tr>\n",
       "    <tr>\n",
       "      <th>2</th>\n",
       "      <td>3</td>\n",
       "      <td>90000</td>\n",
       "      <td>2</td>\n",
       "      <td>2</td>\n",
       "      <td>2</td>\n",
       "      <td>34</td>\n",
       "      <td>0</td>\n",
       "      <td>0</td>\n",
       "      <td>0</td>\n",
       "      <td>0</td>\n",
       "      <td>...</td>\n",
       "      <td>14331</td>\n",
       "      <td>14948</td>\n",
       "      <td>15549</td>\n",
       "      <td>1518</td>\n",
       "      <td>1500</td>\n",
       "      <td>1000</td>\n",
       "      <td>1000</td>\n",
       "      <td>1000</td>\n",
       "      <td>5000</td>\n",
       "      <td>0</td>\n",
       "    </tr>\n",
       "    <tr>\n",
       "      <th>3</th>\n",
       "      <td>4</td>\n",
       "      <td>50000</td>\n",
       "      <td>2</td>\n",
       "      <td>2</td>\n",
       "      <td>1</td>\n",
       "      <td>37</td>\n",
       "      <td>0</td>\n",
       "      <td>0</td>\n",
       "      <td>0</td>\n",
       "      <td>0</td>\n",
       "      <td>...</td>\n",
       "      <td>28314</td>\n",
       "      <td>28959</td>\n",
       "      <td>29547</td>\n",
       "      <td>2000</td>\n",
       "      <td>2019</td>\n",
       "      <td>1200</td>\n",
       "      <td>1100</td>\n",
       "      <td>1069</td>\n",
       "      <td>1000</td>\n",
       "      <td>0</td>\n",
       "    </tr>\n",
       "    <tr>\n",
       "      <th>4</th>\n",
       "      <td>5</td>\n",
       "      <td>50000</td>\n",
       "      <td>1</td>\n",
       "      <td>2</td>\n",
       "      <td>1</td>\n",
       "      <td>57</td>\n",
       "      <td>-1</td>\n",
       "      <td>0</td>\n",
       "      <td>-1</td>\n",
       "      <td>0</td>\n",
       "      <td>...</td>\n",
       "      <td>20940</td>\n",
       "      <td>19146</td>\n",
       "      <td>19131</td>\n",
       "      <td>2000</td>\n",
       "      <td>36681</td>\n",
       "      <td>10000</td>\n",
       "      <td>9000</td>\n",
       "      <td>689</td>\n",
       "      <td>679</td>\n",
       "      <td>0</td>\n",
       "    </tr>\n",
       "  </tbody>\n",
       "</table>\n",
       "<p>5 rows × 25 columns</p>\n",
       "</div>"
      ],
      "text/plain": [
       "   ID  LIMIT_BAL  SEX  EDUCATION  MARRIAGE  AGE  PAY_0  PAY_2  PAY_3  PAY_4  \\\n",
       "0   1      20000    2          2         1   24      2      2     -1     -1   \n",
       "1   2     120000    2          2         2   26     -1      2      0      0   \n",
       "2   3      90000    2          2         2   34      0      0      0      0   \n",
       "3   4      50000    2          2         1   37      0      0      0      0   \n",
       "4   5      50000    1          2         1   57     -1      0     -1      0   \n",
       "\n",
       "   ...  BILL_AMT4  BILL_AMT5  BILL_AMT6  PAY_AMT1  PAY_AMT2  PAY_AMT3  \\\n",
       "0  ...          0          0          0         0       689         0   \n",
       "1  ...       3272       3455       3261         0      1000      1000   \n",
       "2  ...      14331      14948      15549      1518      1500      1000   \n",
       "3  ...      28314      28959      29547      2000      2019      1200   \n",
       "4  ...      20940      19146      19131      2000     36681     10000   \n",
       "\n",
       "   PAY_AMT4  PAY_AMT5  PAY_AMT6  DEFAULT  \n",
       "0         0         0         0        1  \n",
       "1      1000         0      2000        1  \n",
       "2      1000      1000      5000        0  \n",
       "3      1100      1069      1000        0  \n",
       "4      9000       689       679        0  \n",
       "\n",
       "[5 rows x 25 columns]"
      ]
     },
     "execution_count": 2,
     "metadata": {},
     "output_type": "execute_result"
    }
   ],
   "source": [
    "ccdefault = pd.read_csv(\"D:/UIUC_Course/Machine Learning/Module6//ccdefault.csv\")\n",
    "ccdefault.head()\n"
   ]
  },
  {
   "cell_type": "code",
   "execution_count": 3,
   "metadata": {},
   "outputs": [],
   "source": [
    "np_ccdefault = np.array(ccdefault)\n",
    "X = np_ccdefault[:,1:24]\n",
    "y = np_ccdefault[:,24]\n",
    "estimators_list = [ 25,50,75,100,125,150,175,200,250,300,350,400,500]\n",
    "out_sample_scores = []\n",
    "cv_means=[]\n",
    "running_time = []"
   ]
  },
  {
   "cell_type": "code",
   "execution_count": 5,
   "metadata": {},
   "outputs": [],
   "source": [
    "X_train, X_test, y_train, y_test =train_test_split(X, y,test_size=0.1,\n",
    "                                                   stratify=y,\n",
    "                                                   random_state = 1)\n",
    "for n in estimators_list:\n",
    "    timestamp_1 = time.time()\n",
    "    forest = RandomForestClassifier(criterion='gini',\n",
    "                                    n_estimators=n,\n",
    "                                    random_state=1,\n",
    "                                    n_jobs=-1)\n",
    "    forest.fit(X_train, y_train)\n",
    "    \n",
    "    cv_scores = cross_val_score(estimator=forest, X=X_train, y=y_train, cv=10, n_jobs=-1)\n",
    "    cv_means.append(np.mean(cv_scores))\n",
    "    \n",
    "    y_test_pred = forest.predict(X_test)\n",
    "    out_sample_scores.append(accuracy_score(y_test, y_test_pred))\n",
    "    \n",
    "    timestamp_2 = time.time()\n",
    "    running_time.append(timestamp_2 - timestamp_1)\n",
    "    "
   ]
  },
  {
   "cell_type": "code",
   "execution_count": 6,
   "metadata": {},
   "outputs": [
    {
     "data": {
      "text/plain": [
       "[0.8129636387238645,\n",
       " 0.8157416910330013,\n",
       " 0.8150006072601554,\n",
       " 0.8157784125235846,\n",
       " 0.8158894962100106,\n",
       " 0.8162599352233819,\n",
       " 0.8164451066759024,\n",
       " 0.8168154221765809,\n",
       " 0.8161115950008284,\n",
       " 0.8163338446477356,\n",
       " 0.816593131372324,\n",
       " 0.8163337897983658,\n",
       " 0.816407863902923]"
      ]
     },
     "execution_count": 6,
     "metadata": {},
     "output_type": "execute_result"
    }
   ],
   "source": [
    "cv_means"
   ]
  },
  {
   "cell_type": "code",
   "execution_count": 7,
   "metadata": {},
   "outputs": [
    {
     "data": {
      "text/plain": [
       "[0.8156666666666667,\n",
       " 0.8196666666666667,\n",
       " 0.819,\n",
       " 0.8203333333333334,\n",
       " 0.8216666666666667,\n",
       " 0.821,\n",
       " 0.82,\n",
       " 0.8186666666666667,\n",
       " 0.8196666666666667,\n",
       " 0.819,\n",
       " 0.8186666666666667,\n",
       " 0.8193333333333334,\n",
       " 0.8176666666666667]"
      ]
     },
     "execution_count": 7,
     "metadata": {},
     "output_type": "execute_result"
    }
   ],
   "source": [
    "out_sample_scores"
   ]
  },
  {
   "cell_type": "code",
   "execution_count": 8,
   "metadata": {},
   "outputs": [
    {
     "data": {
      "text/plain": [
       "[11.927680492401123,\n",
       " 18.079702377319336,\n",
       " 26.790794610977173,\n",
       " 36.11043858528137,\n",
       " 44.702062368392944,\n",
       " 52.91289973258972,\n",
       " 63.802709341049194,\n",
       " 70.38847947120667,\n",
       " 88.819753408432,\n",
       " 108.38555359840393,\n",
       " 128.69409704208374,\n",
       " 145.73438429832458,\n",
       " 178.69421100616455]"
      ]
     },
     "execution_count": 8,
     "metadata": {},
     "output_type": "execute_result"
    }
   ],
   "source": [
    "running_time"
   ]
  },
  {
   "cell_type": "code",
   "execution_count": 9,
   "metadata": {},
   "outputs": [
    {
     "data": {
      "text/html": [
       "<div>\n",
       "<style scoped>\n",
       "    .dataframe tbody tr th:only-of-type {\n",
       "        vertical-align: middle;\n",
       "    }\n",
       "\n",
       "    .dataframe tbody tr th {\n",
       "        vertical-align: top;\n",
       "    }\n",
       "\n",
       "    .dataframe thead th {\n",
       "        text-align: right;\n",
       "    }\n",
       "</style>\n",
       "<table border=\"1\" class=\"dataframe\">\n",
       "  <thead>\n",
       "    <tr style=\"text-align: right;\">\n",
       "      <th></th>\n",
       "      <th>Estimators_List</th>\n",
       "      <th>10-flod_Cross_Validatoin_Scores</th>\n",
       "      <th>Out_of_Sample_Accuracy_Scores</th>\n",
       "      <th>Running_Time</th>\n",
       "    </tr>\n",
       "  </thead>\n",
       "  <tbody>\n",
       "    <tr>\n",
       "      <th>0</th>\n",
       "      <td>25</td>\n",
       "      <td>0.812964</td>\n",
       "      <td>0.815667</td>\n",
       "      <td>11.927680</td>\n",
       "    </tr>\n",
       "    <tr>\n",
       "      <th>1</th>\n",
       "      <td>50</td>\n",
       "      <td>0.815742</td>\n",
       "      <td>0.819667</td>\n",
       "      <td>18.079702</td>\n",
       "    </tr>\n",
       "    <tr>\n",
       "      <th>2</th>\n",
       "      <td>75</td>\n",
       "      <td>0.815001</td>\n",
       "      <td>0.819000</td>\n",
       "      <td>26.790795</td>\n",
       "    </tr>\n",
       "    <tr>\n",
       "      <th>3</th>\n",
       "      <td>100</td>\n",
       "      <td>0.815778</td>\n",
       "      <td>0.820333</td>\n",
       "      <td>36.110439</td>\n",
       "    </tr>\n",
       "    <tr>\n",
       "      <th>4</th>\n",
       "      <td>125</td>\n",
       "      <td>0.815889</td>\n",
       "      <td>0.821667</td>\n",
       "      <td>44.702062</td>\n",
       "    </tr>\n",
       "    <tr>\n",
       "      <th>5</th>\n",
       "      <td>150</td>\n",
       "      <td>0.816260</td>\n",
       "      <td>0.821000</td>\n",
       "      <td>52.912900</td>\n",
       "    </tr>\n",
       "    <tr>\n",
       "      <th>6</th>\n",
       "      <td>175</td>\n",
       "      <td>0.816445</td>\n",
       "      <td>0.820000</td>\n",
       "      <td>63.802709</td>\n",
       "    </tr>\n",
       "    <tr>\n",
       "      <th>7</th>\n",
       "      <td>200</td>\n",
       "      <td>0.816815</td>\n",
       "      <td>0.818667</td>\n",
       "      <td>70.388479</td>\n",
       "    </tr>\n",
       "    <tr>\n",
       "      <th>8</th>\n",
       "      <td>250</td>\n",
       "      <td>0.816112</td>\n",
       "      <td>0.819667</td>\n",
       "      <td>88.819753</td>\n",
       "    </tr>\n",
       "    <tr>\n",
       "      <th>9</th>\n",
       "      <td>300</td>\n",
       "      <td>0.816334</td>\n",
       "      <td>0.819000</td>\n",
       "      <td>108.385554</td>\n",
       "    </tr>\n",
       "    <tr>\n",
       "      <th>10</th>\n",
       "      <td>350</td>\n",
       "      <td>0.816593</td>\n",
       "      <td>0.818667</td>\n",
       "      <td>128.694097</td>\n",
       "    </tr>\n",
       "    <tr>\n",
       "      <th>11</th>\n",
       "      <td>400</td>\n",
       "      <td>0.816334</td>\n",
       "      <td>0.819333</td>\n",
       "      <td>145.734384</td>\n",
       "    </tr>\n",
       "    <tr>\n",
       "      <th>12</th>\n",
       "      <td>500</td>\n",
       "      <td>0.816408</td>\n",
       "      <td>0.817667</td>\n",
       "      <td>178.694211</td>\n",
       "    </tr>\n",
       "  </tbody>\n",
       "</table>\n",
       "</div>"
      ],
      "text/plain": [
       "    Estimators_List  10-flod_Cross_Validatoin_Scores  \\\n",
       "0                25                         0.812964   \n",
       "1                50                         0.815742   \n",
       "2                75                         0.815001   \n",
       "3               100                         0.815778   \n",
       "4               125                         0.815889   \n",
       "5               150                         0.816260   \n",
       "6               175                         0.816445   \n",
       "7               200                         0.816815   \n",
       "8               250                         0.816112   \n",
       "9               300                         0.816334   \n",
       "10              350                         0.816593   \n",
       "11              400                         0.816334   \n",
       "12              500                         0.816408   \n",
       "\n",
       "    Out_of_Sample_Accuracy_Scores  Running_Time  \n",
       "0                        0.815667     11.927680  \n",
       "1                        0.819667     18.079702  \n",
       "2                        0.819000     26.790795  \n",
       "3                        0.820333     36.110439  \n",
       "4                        0.821667     44.702062  \n",
       "5                        0.821000     52.912900  \n",
       "6                        0.820000     63.802709  \n",
       "7                        0.818667     70.388479  \n",
       "8                        0.819667     88.819753  \n",
       "9                        0.819000    108.385554  \n",
       "10                       0.818667    128.694097  \n",
       "11                       0.819333    145.734384  \n",
       "12                       0.817667    178.694211  "
      ]
     },
     "execution_count": 9,
     "metadata": {},
     "output_type": "execute_result"
    }
   ],
   "source": [
    "accuracy_table=df({\"Estimators_List\":estimators_list,\n",
    "        \"10-flod_Cross_Validatoin_Scores\":cv_means,\n",
    "        \"Out_of_Sample_Accuracy_Scores\":out_sample_scores,\n",
    "        \"Running_Time\":running_time})\n",
    "accuracy_table"
   ]
  },
  {
   "cell_type": "code",
   "execution_count": 11,
   "metadata": {},
   "outputs": [
    {
     "data": {
      "image/png": "[encoded data removed]",
      "text/plain": [
       "<Figure size 432x288 with 1 Axes>"
      ]
     },
     "metadata": {
      "needs_background": "light"
     },
     "output_type": "display_data"
    }
   ],
   "source": [
    "plt.xlabel('Number of Rainforest Estimators')\n",
    "plt.ylabel('Computation Tim')\n",
    "plt.title(\"Computation Time with n_estimaters growing\")\n",
    "plt.plot(estimators_list,running_time,c='steelblue', marker='o',label='Computation Time')\n",
    "plt.show()"
   ]
  },
  {
   "cell_type": "code",
   "execution_count": 12,
   "metadata": {
    "scrolled": true
   },
   "outputs": [
    {
     "data": {
      "image/png": "[encoded data removed]",
      "text/plain": [
       "<Figure size 432x288 with 1 Axes>"
      ]
     },
     "metadata": {
      "needs_background": "light"
     },
     "output_type": "display_data"
    }
   ],
   "source": [
    "plt.xlabel('Number of Rainforest Estimators')\n",
    "plt.ylabel('Accuraacy Scores')\n",
    "plt.title(\"Scores with Growing Rainforest Estimators\")\n",
    "plt.plot(estimators_list,cv_means,c='steelblue', marker='o',label='Out of Sample CV Score')\n",
    "plt.plot(estimators_list,out_sample_scores,c='limegreen', marker='s',label='In Sample Accuracy Score')\n",
    "plt.show()"
   ]
  },
  {
   "cell_type": "markdown",
   "metadata": {},
   "source": [
    "## Part 2: Random forest feature importance"
   ]
  },
  {
   "cell_type": "markdown",
   "metadata": {},
   "source": [
    "Display the individual feature importance of your best model in Part 1 above using the code presented in Chapter 4 on page 136. {importances=forest.feature_importances_ }"
   ]
  },
  {
   "cell_type": "code",
   "execution_count": 13,
   "metadata": {},
   "outputs": [
    {
     "data": {
      "text/plain": [
       "Index(['LIMIT_BAL', 'SEX', 'EDUCATION', 'MARRIAGE', 'AGE', 'PAY_0', 'PAY_2',\n",
       "       'PAY_3', 'PAY_4', 'PAY_5', 'PAY_6', 'BILL_AMT1', 'BILL_AMT2',\n",
       "       'BILL_AMT3', 'BILL_AMT4', 'BILL_AMT5', 'BILL_AMT6', 'PAY_AMT1',\n",
       "       'PAY_AMT2', 'PAY_AMT3', 'PAY_AMT4', 'PAY_AMT5', 'PAY_AMT6'],\n",
       "      dtype='object')"
      ]
     },
     "execution_count": 13,
     "metadata": {},
     "output_type": "execute_result"
    }
   ],
   "source": [
    "feat_labels = ccdefault.columns[1:24]\n",
    "feat_labels"
   ]
  },
  {
   "cell_type": "code",
   "execution_count": 16,
   "metadata": {},
   "outputs": [
    {
     "name": "stdout",
     "output_type": "stream",
     "text": [
      " 1) PAY_0                          0.095263\n",
      " 2) AGE                            0.067765\n",
      " 3) BILL_AMT1                      0.060900\n",
      " 4) LIMIT_BAL                      0.060055\n",
      " 5) BILL_AMT2                      0.054563\n",
      " 6) BILL_AMT3                      0.052115\n",
      " 7) BILL_AMT6                      0.050414\n",
      " 8) PAY_AMT1                       0.050305\n",
      " 9) BILL_AMT4                      0.050253\n",
      "10) BILL_AMT5                      0.049639\n",
      "11) PAY_AMT2                       0.048203\n",
      "12) PAY_2                          0.048059\n",
      "13) PAY_AMT3                       0.046629\n",
      "14) PAY_AMT6                       0.045892\n",
      "15) PAY_AMT4                       0.043523\n",
      "16) PAY_AMT5                       0.043482\n",
      "17) PAY_3                          0.026382\n",
      "18) PAY_4                          0.022653\n",
      "19) EDUCATION                      0.020544\n",
      "20) PAY_5                          0.018764\n",
      "21) PAY_6                          0.018551\n",
      "22) MARRIAGE                       0.013955\n",
      "23) SEX                            0.012091\n"
     ]
    },
    {
     "data": {
      "image/png": "[encoded data removed]",
      "text/plain": [
       "<Figure size 432x288 with 1 Axes>"
      ]
     },
     "metadata": {
      "needs_background": "light"
     },
     "output_type": "display_data"
    }
   ],
   "source": [
    "feat_labels = ccdefault.columns[1:24]\n",
    "forest = RandomForestClassifier(n_estimators=200,random_state=1)\n",
    "forest.fit(X_train, y_train)\n",
    "importances = forest.feature_importances_\n",
    "indices = np.argsort(importances)[::-1]\n",
    "for f in range(X_train.shape[1]):\n",
    "    print(\"%2d) %-*s %f\" % (f + 1, 30,\n",
    "    feat_labels[indices[f]],\n",
    "    importances[indices[f]]))\n",
    "plt.title('Feature Importance')\n",
    "plt.bar(range(X_train.shape[1]),importances[indices],align='center')\n",
    "plt.xticks(range(X_train.shape[1]),feat_labels[indices], rotation=90)\n",
    "plt.xlim([-1, X_train.shape[1]])\n",
    "plt.tight_layout()\n",
    "plt.show()"
   ]
  },
  {
   "cell_type": "code",
   "execution_count": 59,
   "metadata": {},
   "outputs": [
    {
     "name": "stdout",
     "output_type": "stream",
     "text": [
      "My name is Jialing Zhu\n",
      "My NetID is: jz72\n",
      "I hereby certify that I have read the University policy on Academic Integrity and that I am not in violation.\n"
     ]
    }
   ],
   "source": [
    "print(\"My name is Jialing Zhu\")\n",
    "print(\"My NetID is: jz72\")\n",
    "print(\"I hereby certify that I have read the University policy on Academic Integrity and that I am not in violation.\")"
   ]
  },
  {
   "cell_type": "code",
   "execution_count": null,
   "metadata": {},
   "outputs": [],
   "source": []
  }
 ],
 "metadata": {
  "kernelspec": {
   "display_name": "Python 3",
   "language": "python",
   "name": "python3"
  },
  "language_info": {
   "codemirror_mode": {
    "name": "ipython",
    "version": 3
   },
   "file_extension": ".py",
   "mimetype": "text/x-python",
   "name": "python",
   "nbconvert_exporter": "python",
   "pygments_lexer": "ipython3",
   "version": "3.7.3"
  }
 },
 "nbformat": 4,
 "nbformat_minor": 2
}
